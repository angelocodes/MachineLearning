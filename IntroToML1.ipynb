{
  "nbformat": 4,
  "nbformat_minor": 0,
  "metadata": {
    "colab": {
      "provenance": [],
      "authorship_tag": "ABX9TyMqu33o7ENuqV9184oHdRsR",
      "include_colab_link": true
    },
    "kernelspec": {
      "name": "python3",
      "display_name": "Python 3"
    },
    "language_info": {
      "name": "python"
    }
  },
  "cells": [
    {
      "cell_type": "markdown",
      "metadata": {
        "id": "view-in-github",
        "colab_type": "text"
      },
      "source": [
        "<a href=\"https://colab.research.google.com/github/rukundob451/MachineLearning/blob/main/IntroToML1.ipynb\" target=\"_parent\"><img src=\"https://colab.research.google.com/assets/colab-badge.svg\" alt=\"Open In Colab\"/></a>"
      ]
    },
    {
      "cell_type": "markdown",
      "source": [
        "# Supervised Learning and K Nearest Neighbors Exercises\n",
        "\n",
        "### Learning Objectives:\n",
        "\n",
        "* Explain supervised learning and how it can be applied to regression and classification problems\n",
        "* Apply K-Nearest Neighbor (KNN) algorithm for classification\n",
        "* Apply Intel® Extension for Scikit-learn* to leverage underlying compute capabilities of hardware\n",
        "\n",
        "\n",
        "\n"
      ],
      "metadata": {
        "id": "QerEvuSguirh"
      }
    },
    {
      "cell_type": "markdown",
      "source": [
        "### scikit-learn*\n",
        "\n",
        "Frameworks provide structure that Data Scientists use to build code. Frameworks are more than just libraries, because in addition to callable code, frameworks influence how code is written.\n",
        "\n",
        "A main virtue of using an optimized framework is that code runs faster. Code that runs faster is just generally more convenient but when we begin looking at applied data science and AI models, we can see more material benefits. Here you will see how optimization, particularly hyperparameter optimization can benefit more than just speed."
      ],
      "metadata": {
        "id": "OMscWeG6xgJA"
      }
    },
    {
      "cell_type": "markdown",
      "source": [
        "### Introduction (Class 2)\n",
        "\n",
        "We will be using customer churn data from the telecom industry for the first week's exercises. The data file is called Orange_Telecom_Churn_Data.csv. We will load this data together, do some preprocessing, and use K-nearest neighbors to predict customer churn based on account characteristics."
      ],
      "metadata": {
        "id": "AXv56gg-zOgB"
      }
    },
    {
      "cell_type": "code",
      "execution_count": 3,
      "metadata": {
        "id": "ahxPJOl3s_R9"
      },
      "outputs": [],
      "source": [
        "from sklearn.preprocessing import LabelBinarizer\n",
        "from sklearn.preprocessing import MinMaxScaler\n",
        "from sklearn.neighbors import KNeighborsClassifier"
      ]
    },
    {
      "cell_type": "markdown",
      "source": [
        "### Question 1\n",
        "\n",
        "Begin by importing the data. Examine the columns and data.\n",
        "Notice that the data contains a state, area code, and phone number.\n",
        "Do you think these are good features to use when building a machine learning model? Why or why not?\n",
        "We will not be using them, so they can be dropped from the data."
      ],
      "metadata": {
        "id": "6A4yjX58zZNY"
      }
    },
    {
      "cell_type": "code",
      "source": [
        "import pandas as pd\n",
        "\n",
        "data = pd.read_csv('Orange_Telecom_Churn_Data.csv')"
      ],
      "metadata": {
        "id": "r_1Q1yixzILA"
      },
      "execution_count": 5,
      "outputs": []
    },
    {
      "cell_type": "code",
      "source": [
        "data.head(1).T"
      ],
      "metadata": {
        "colab": {
          "base_uri": "https://localhost:8080/",
          "height": 707
        },
        "id": "FBo8hFlLxBWV",
        "outputId": "da015bcf-e251-4f09-fe43-3db9a3f4dcf9"
      },
      "execution_count": 6,
      "outputs": [
        {
          "output_type": "execute_result",
          "data": {
            "text/plain": [
              "                                      0\n",
              "state                                KS\n",
              "account_length                      128\n",
              "area_code                           415\n",
              "phone_number                   382-4657\n",
              "intl_plan                            no\n",
              "voice_mail_plan                     yes\n",
              "number_vmail_messages                25\n",
              "total_day_minutes                 265.1\n",
              "total_day_calls                     110\n",
              "total_day_charge                  45.07\n",
              "total_eve_minutes                 197.4\n",
              "total_eve_calls                      99\n",
              "total_eve_charge                  16.78\n",
              "total_night_minutes               244.7\n",
              "total_night_calls                    91\n",
              "total_night_charge                11.01\n",
              "total_intl_minutes                 10.0\n",
              "total_intl_calls                      3\n",
              "total_intl_charge                   2.7\n",
              "number_customer_service_calls         1\n",
              "churned                           False"
            ],
            "text/html": [
              "\n",
              "  <div id=\"df-264c0e87-389d-49d1-9a61-a82d9ecde91a\">\n",
              "    <div class=\"colab-df-container\">\n",
              "      <div>\n",
              "<style scoped>\n",
              "    .dataframe tbody tr th:only-of-type {\n",
              "        vertical-align: middle;\n",
              "    }\n",
              "\n",
              "    .dataframe tbody tr th {\n",
              "        vertical-align: top;\n",
              "    }\n",
              "\n",
              "    .dataframe thead th {\n",
              "        text-align: right;\n",
              "    }\n",
              "</style>\n",
              "<table border=\"1\" class=\"dataframe\">\n",
              "  <thead>\n",
              "    <tr style=\"text-align: right;\">\n",
              "      <th></th>\n",
              "      <th>0</th>\n",
              "    </tr>\n",
              "  </thead>\n",
              "  <tbody>\n",
              "    <tr>\n",
              "      <th>state</th>\n",
              "      <td>KS</td>\n",
              "    </tr>\n",
              "    <tr>\n",
              "      <th>account_length</th>\n",
              "      <td>128</td>\n",
              "    </tr>\n",
              "    <tr>\n",
              "      <th>area_code</th>\n",
              "      <td>415</td>\n",
              "    </tr>\n",
              "    <tr>\n",
              "      <th>phone_number</th>\n",
              "      <td>382-4657</td>\n",
              "    </tr>\n",
              "    <tr>\n",
              "      <th>intl_plan</th>\n",
              "      <td>no</td>\n",
              "    </tr>\n",
              "    <tr>\n",
              "      <th>voice_mail_plan</th>\n",
              "      <td>yes</td>\n",
              "    </tr>\n",
              "    <tr>\n",
              "      <th>number_vmail_messages</th>\n",
              "      <td>25</td>\n",
              "    </tr>\n",
              "    <tr>\n",
              "      <th>total_day_minutes</th>\n",
              "      <td>265.1</td>\n",
              "    </tr>\n",
              "    <tr>\n",
              "      <th>total_day_calls</th>\n",
              "      <td>110</td>\n",
              "    </tr>\n",
              "    <tr>\n",
              "      <th>total_day_charge</th>\n",
              "      <td>45.07</td>\n",
              "    </tr>\n",
              "    <tr>\n",
              "      <th>total_eve_minutes</th>\n",
              "      <td>197.4</td>\n",
              "    </tr>\n",
              "    <tr>\n",
              "      <th>total_eve_calls</th>\n",
              "      <td>99</td>\n",
              "    </tr>\n",
              "    <tr>\n",
              "      <th>total_eve_charge</th>\n",
              "      <td>16.78</td>\n",
              "    </tr>\n",
              "    <tr>\n",
              "      <th>total_night_minutes</th>\n",
              "      <td>244.7</td>\n",
              "    </tr>\n",
              "    <tr>\n",
              "      <th>total_night_calls</th>\n",
              "      <td>91</td>\n",
              "    </tr>\n",
              "    <tr>\n",
              "      <th>total_night_charge</th>\n",
              "      <td>11.01</td>\n",
              "    </tr>\n",
              "    <tr>\n",
              "      <th>total_intl_minutes</th>\n",
              "      <td>10.0</td>\n",
              "    </tr>\n",
              "    <tr>\n",
              "      <th>total_intl_calls</th>\n",
              "      <td>3</td>\n",
              "    </tr>\n",
              "    <tr>\n",
              "      <th>total_intl_charge</th>\n",
              "      <td>2.7</td>\n",
              "    </tr>\n",
              "    <tr>\n",
              "      <th>number_customer_service_calls</th>\n",
              "      <td>1</td>\n",
              "    </tr>\n",
              "    <tr>\n",
              "      <th>churned</th>\n",
              "      <td>False</td>\n",
              "    </tr>\n",
              "  </tbody>\n",
              "</table>\n",
              "</div>\n",
              "      <button class=\"colab-df-convert\" onclick=\"convertToInteractive('df-264c0e87-389d-49d1-9a61-a82d9ecde91a')\"\n",
              "              title=\"Convert this dataframe to an interactive table.\"\n",
              "              style=\"display:none;\">\n",
              "        \n",
              "  <svg xmlns=\"http://www.w3.org/2000/svg\" height=\"24px\"viewBox=\"0 0 24 24\"\n",
              "       width=\"24px\">\n",
              "    <path d=\"M0 0h24v24H0V0z\" fill=\"none\"/>\n",
              "    <path d=\"M18.56 5.44l.94 2.06.94-2.06 2.06-.94-2.06-.94-.94-2.06-.94 2.06-2.06.94zm-11 1L8.5 8.5l.94-2.06 2.06-.94-2.06-.94L8.5 2.5l-.94 2.06-2.06.94zm10 10l.94 2.06.94-2.06 2.06-.94-2.06-.94-.94-2.06-.94 2.06-2.06.94z\"/><path d=\"M17.41 7.96l-1.37-1.37c-.4-.4-.92-.59-1.43-.59-.52 0-1.04.2-1.43.59L10.3 9.45l-7.72 7.72c-.78.78-.78 2.05 0 2.83L4 21.41c.39.39.9.59 1.41.59.51 0 1.02-.2 1.41-.59l7.78-7.78 2.81-2.81c.8-.78.8-2.07 0-2.86zM5.41 20L4 18.59l7.72-7.72 1.47 1.35L5.41 20z\"/>\n",
              "  </svg>\n",
              "      </button>\n",
              "      \n",
              "  <style>\n",
              "    .colab-df-container {\n",
              "      display:flex;\n",
              "      flex-wrap:wrap;\n",
              "      gap: 12px;\n",
              "    }\n",
              "\n",
              "    .colab-df-convert {\n",
              "      background-color: #E8F0FE;\n",
              "      border: none;\n",
              "      border-radius: 50%;\n",
              "      cursor: pointer;\n",
              "      display: none;\n",
              "      fill: #1967D2;\n",
              "      height: 32px;\n",
              "      padding: 0 0 0 0;\n",
              "      width: 32px;\n",
              "    }\n",
              "\n",
              "    .colab-df-convert:hover {\n",
              "      background-color: #E2EBFA;\n",
              "      box-shadow: 0px 1px 2px rgba(60, 64, 67, 0.3), 0px 1px 3px 1px rgba(60, 64, 67, 0.15);\n",
              "      fill: #174EA6;\n",
              "    }\n",
              "\n",
              "    [theme=dark] .colab-df-convert {\n",
              "      background-color: #3B4455;\n",
              "      fill: #D2E3FC;\n",
              "    }\n",
              "\n",
              "    [theme=dark] .colab-df-convert:hover {\n",
              "      background-color: #434B5C;\n",
              "      box-shadow: 0px 1px 3px 1px rgba(0, 0, 0, 0.15);\n",
              "      filter: drop-shadow(0px 1px 2px rgba(0, 0, 0, 0.3));\n",
              "      fill: #FFFFFF;\n",
              "    }\n",
              "  </style>\n",
              "\n",
              "      <script>\n",
              "        const buttonEl =\n",
              "          document.querySelector('#df-264c0e87-389d-49d1-9a61-a82d9ecde91a button.colab-df-convert');\n",
              "        buttonEl.style.display =\n",
              "          google.colab.kernel.accessAllowed ? 'block' : 'none';\n",
              "\n",
              "        async function convertToInteractive(key) {\n",
              "          const element = document.querySelector('#df-264c0e87-389d-49d1-9a61-a82d9ecde91a');\n",
              "          const dataTable =\n",
              "            await google.colab.kernel.invokeFunction('convertToInteractive',\n",
              "                                                     [key], {});\n",
              "          if (!dataTable) return;\n",
              "\n",
              "          const docLinkHtml = 'Like what you see? Visit the ' +\n",
              "            '<a target=\"_blank\" href=https://colab.research.google.com/notebooks/data_table.ipynb>data table notebook</a>'\n",
              "            + ' to learn more about interactive tables.';\n",
              "          element.innerHTML = '';\n",
              "          dataTable['output_type'] = 'display_data';\n",
              "          await google.colab.output.renderOutput(dataTable, element);\n",
              "          const docLink = document.createElement('div');\n",
              "          docLink.innerHTML = docLinkHtml;\n",
              "          element.appendChild(docLink);\n",
              "        }\n",
              "      </script>\n",
              "    </div>\n",
              "  </div>\n",
              "  "
            ]
          },
          "metadata": {},
          "execution_count": 6
        }
      ]
    },
    {
      "cell_type": "code",
      "source": [
        "# Remove extraneous columns\n",
        "data.drop(['state', 'area_code', 'phone_number'], axis=1, inplace=True)"
      ],
      "metadata": {
        "id": "zLaeUT9o3ifQ"
      },
      "execution_count": 7,
      "outputs": []
    },
    {
      "cell_type": "code",
      "source": [
        "data.columns"
      ],
      "metadata": {
        "colab": {
          "base_uri": "https://localhost:8080/"
        },
        "id": "lIdp5Oo13nL4",
        "outputId": "90ba4c25-39f7-45f1-ee88-78c62025f7c0"
      },
      "execution_count": 8,
      "outputs": [
        {
          "output_type": "execute_result",
          "data": {
            "text/plain": [
              "Index(['account_length', 'intl_plan', 'voice_mail_plan',\n",
              "       'number_vmail_messages', 'total_day_minutes', 'total_day_calls',\n",
              "       'total_day_charge', 'total_eve_minutes', 'total_eve_calls',\n",
              "       'total_eve_charge', 'total_night_minutes', 'total_night_calls',\n",
              "       'total_night_charge', 'total_intl_minutes', 'total_intl_calls',\n",
              "       'total_intl_charge', 'number_customer_service_calls', 'churned'],\n",
              "      dtype='object')"
            ]
          },
          "metadata": {},
          "execution_count": 8
        }
      ]
    },
    {
      "cell_type": "markdown",
      "source": [
        "### Question 2\n",
        "* Notice that some of the columns are categorical data and some are floats. These features will need to be numerically encoded using one of the methods from the lecture.\n",
        "* Finally, remember from the lecture that K-nearest neighbors requires scaled data. Scale the data using one of the scaling methods discussed in the lecture."
      ],
      "metadata": {
        "id": "6t3OoFuH4m2e"
      }
    },
    {
      "cell_type": "code",
      "source": [
        "lb = LabelBinarizer()\n",
        "\n",
        "for col in ['intl_plan', 'voice_mail_plan', 'churned']:\n",
        "    data[col] = lb.fit_transform(data[col])"
      ],
      "metadata": {
        "id": "LiGlu8964hdL"
      },
      "execution_count": 9,
      "outputs": []
    },
    {
      "cell_type": "code",
      "source": [
        "# Mute the sklearn warning\n",
        "import warnings\n",
        "warnings.filterwarnings('ignore', module='sklearn')\n",
        "\n",
        "msc = MinMaxScaler()\n",
        "\n",
        "data = pd.DataFrame(msc.fit_transform(data),  # this is an np.array, not a dataframe.\n",
        "                    columns=data.columns)"
      ],
      "metadata": {
        "id": "8MGlF9cp40x9"
      },
      "execution_count": 10,
      "outputs": []
    },
    {
      "cell_type": "markdown",
      "source": [
        "### Question 3\n",
        "* Separate the feature columns (everything except churned) from the label (churned). This will create two tables.\n",
        "* Fit a K-nearest neighbors model with a value of k=3 to this data and predict the outcome on the same data."
      ],
      "metadata": {
        "id": "YRsHbRn848c-"
      }
    },
    {
      "cell_type": "code",
      "source": [
        "# Get a list of all the columns that don't contain the label\n",
        "x_cols = [x for x in data.columns if x != 'churned']\n",
        "\n",
        "# Split the data into two dataframes\n",
        "X_data = data[x_cols]\n",
        "y_data = data['churned']\n",
        "\n",
        "# # alternatively:\n",
        "# X_data = data.copy()\n",
        "# y_data = X_data.pop('churned')"
      ],
      "metadata": {
        "id": "peV7Q1nA43tW"
      },
      "execution_count": 11,
      "outputs": []
    },
    {
      "cell_type": "code",
      "source": [
        "knn = KNeighborsClassifier(n_neighbors=3)\n",
        "\n",
        "knn = knn.fit(X_data, y_data)\n",
        "\n",
        "y_pred = knn.predict(X_data)"
      ],
      "metadata": {
        "id": "F1tFo8Pp5E9h"
      },
      "execution_count": 12,
      "outputs": []
    },
    {
      "cell_type": "markdown",
      "source": [
        "### Question 4\n",
        "Ways to measure error haven't been discussed in class yet, but accuracy is an easy one to understand--it is simply the percent of labels that were correctly predicted (either true or false).\n",
        "\n",
        "* Write a function to calculate accuracy using the actual and predicted labels.\n",
        "* Using the function, calculate the accuracy of this K-nearest neighbors model on the data."
      ],
      "metadata": {
        "id": "Z8481iMf5R0N"
      }
    },
    {
      "cell_type": "code",
      "source": [
        "# Function to calculate the % of values that were correctly predicted\n",
        "\n",
        "def accuracy(real, predict):\n",
        "    return sum(y_data == y_pred) / float(real.shape[0])"
      ],
      "metadata": {
        "id": "ZXD3vWjX5Hwn"
      },
      "execution_count": 13,
      "outputs": []
    },
    {
      "cell_type": "code",
      "source": [
        "print(accuracy(y_data, y_pred))"
      ],
      "metadata": {
        "colab": {
          "base_uri": "https://localhost:8080/"
        },
        "id": "ZUpTdA_I5n4x",
        "outputId": "f347246a-1ee8-4197-9ca6-3256fa4f743b"
      },
      "execution_count": 14,
      "outputs": [
        {
          "output_type": "stream",
          "name": "stdout",
          "text": [
            "0.9422\n"
          ]
        }
      ]
    },
    {
      "cell_type": "markdown",
      "source": [
        "### Question 5\n",
        "* Fit the K-nearest neighbors model again with n_neighbors=3 but this time use distance for the weights. Calculate the accuracy using the function you created above.\n",
        "* Fit another K-nearest neighbors model. This time use uniform weights but set the power parameter for the Minkowski distance metric to be 1 (p=1) i.e. Manhattan Distance.\n",
        "\n",
        "When weighted distances are used for part 1 of this question, a value of 1.0 should be returned for the accuracy. Why do you think this is? Hint: we are predicting on the data and with KNN the model is the data. We will learn how to avoid this pitfall in the next lecture."
      ],
      "metadata": {
        "id": "eRghvrLJ8Tdq"
      }
    },
    {
      "cell_type": "code",
      "source": [
        "knn = KNeighborsClassifier(n_neighbors=5, weights='distance')\n",
        "\n",
        "knn = knn.fit(X_data, y_data)\n",
        "\n",
        "y_pred = knn.predict(X_data)\n",
        "\n",
        "print(accuracy(y_data, y_pred))"
      ],
      "metadata": {
        "colab": {
          "base_uri": "https://localhost:8080/"
        },
        "id": "CRtnIzsd8OHT",
        "outputId": "89a19003-ad44-470c-bc76-78d9fc9c25c4"
      },
      "execution_count": 15,
      "outputs": [
        {
          "output_type": "stream",
          "name": "stdout",
          "text": [
            "1.0\n"
          ]
        }
      ]
    },
    {
      "cell_type": "code",
      "source": [
        "knn = KNeighborsClassifier(n_neighbors=5, p=2)\n",
        "\n",
        "knn = knn.fit(X_data, y_data)\n",
        "\n",
        "y_pred = knn.predict(X_data)\n",
        "\n",
        "print(accuracy(y_data, y_pred))"
      ],
      "metadata": {
        "colab": {
          "base_uri": "https://localhost:8080/"
        },
        "id": "v8hB5fwu8dV2",
        "outputId": "9d4f4908-370b-4375-bb82-adebd0faff60"
      },
      "execution_count": 16,
      "outputs": [
        {
          "output_type": "stream",
          "name": "stdout",
          "text": [
            "0.9284\n"
          ]
        }
      ]
    },
    {
      "cell_type": "markdown",
      "source": [
        "### Question 6\n",
        "\n",
        "* Fit a K-nearest neighbors model using values of k (n_neighbors) ranging from 1 to 20. Use uniform weights (the default). The coefficient for the Minkowski distance (p) can be set to either 1 or 2--just be consistent. Store the accuracy and the value of k used from each of these fits in a list or dictionary.\n",
        "* Plot (or view the table of) the accuracy vs k. What do you notice happens when k=1? Why do you think this is? Hint: it's for the same reason discussed above."
      ],
      "metadata": {
        "id": "gRLyEy6Z-hZh"
      }
    },
    {
      "cell_type": "code",
      "source": [
        "# Fit the K-nearest neighbors model with different values of k\n",
        "# Store the accuracy measurement for each k\n",
        "\n",
        "score_list = list()\n",
        "\n",
        "for k in range(1, 21):\n",
        "    \n",
        "    knn = KNeighborsClassifier(n_neighbors=k)\n",
        "    knn = knn.fit(X_data, y_data)\n",
        "    \n",
        "    y_pred = knn.predict(X_data)\n",
        "    score = accuracy(y_data, y_pred)\n",
        "    \n",
        "    score_list.append((k, score))\n",
        "    \n",
        "score_df = pd.DataFrame(score_list, columns=['k', 'accuracy'])"
      ],
      "metadata": {
        "id": "rOn8feVl8hAY"
      },
      "execution_count": 17,
      "outputs": []
    },
    {
      "cell_type": "code",
      "source": [
        "# Import libraries to make the plot\n",
        "\n",
        "import matplotlib.pyplot as plt\n",
        "import seaborn as sns\n",
        "\n",
        "%matplotlib inline"
      ],
      "metadata": {
        "id": "Btmz1qQC-0Kq"
      },
      "execution_count": 18,
      "outputs": []
    },
    {
      "cell_type": "code",
      "source": [
        "sns.set_context('talk')\n",
        "sns.set_style('ticks')\n",
        "sns.set_palette('dark')\n",
        "\n",
        "ax = score_df.set_index('k').plot()\n",
        "\n",
        "ax.set(xlabel='k', ylabel='accuracy')\n",
        "ax.set_xticks(range(1, 21));"
      ],
      "metadata": {
        "colab": {
          "base_uri": "https://localhost:8080/",
          "height": 301
        },
        "id": "Y8NrV747_FdN",
        "outputId": "11d7ef85-8e90-49da-a916-1412c8278766"
      },
      "execution_count": 19,
      "outputs": [
        {
          "output_type": "display_data",
          "data": {
            "text/plain": [
              "<Figure size 432x288 with 1 Axes>"
            ],
            "image/png": "[encoded data removed]"
          },
          "metadata": {}
        }
      ]
    },
    {
      "cell_type": "code",
      "source": [],
      "metadata": {
        "id": "wS2zJoZ5ANb9"
      },
      "execution_count": null,
      "outputs": []
    }
  ]
}